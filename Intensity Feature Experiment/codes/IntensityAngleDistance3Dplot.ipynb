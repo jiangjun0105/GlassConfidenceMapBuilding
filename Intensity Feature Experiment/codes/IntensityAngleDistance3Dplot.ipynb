{
 "cells": [
  {
   "cell_type": "code",
   "execution_count": 1,
   "metadata": {
    "collapsed": false,
    "deletable": true,
    "editable": true
   },
   "outputs": [],
   "source": [
    "%matplotlib qt5 \n",
    "\n",
    "from __future__ import print_function\n",
    "import sys\n",
    "import numpy as np\n",
    "import matplotlib.pyplot as plt\n",
    "from mpl_toolkits.mplot3d import Axes3D\n",
    "from numpy import linspace, meshgrid\n",
    "from matplotlib.mlab import griddata\n",
    "from matplotlib import cm\n",
    "import time\n",
    "import rospy\n",
    "import rosbag\n",
    "import glob\n",
    "import math\n",
    "from tqdm import tqdm\n",
    "from sklearn.externals import joblib"
   ]
  },
  {
   "cell_type": "code",
   "execution_count": 4,
   "metadata": {
    "collapsed": false,
    "deletable": true,
    "editable": true
   },
   "outputs": [
    {
     "name": "stderr",
     "output_type": "stream",
     "text": [
      "100%|██████████| 16/16 [00:00<00:00, 87381.33it/s]\n",
      "  0%|          | 0/16 [00:00<?, ?it/s]"
     ]
    },
    {
     "name": "stdout",
     "output_type": "stream",
     "text": [
      "['/home/jiang/Desktop/IntenAnglDist(2017-8-16)/bags/cardboard/Card-60.bag', '/home/jiang/Desktop/IntenAnglDist(2017-8-16)/bags/cardboard/Card-20.bag', '/home/jiang/Desktop/IntenAnglDist(2017-8-16)/bags/cardboard/Card4.bag', '/home/jiang/Desktop/IntenAnglDist(2017-8-16)/bags/cardboard/Card-10.bag', '/home/jiang/Desktop/IntenAnglDist(2017-8-16)/bags/cardboard/Card20.bag', '/home/jiang/Desktop/IntenAnglDist(2017-8-16)/bags/cardboard/Card-40.bag', '/home/jiang/Desktop/IntenAnglDist(2017-8-16)/bags/cardboard/Card-50.bag', '/home/jiang/Desktop/IntenAnglDist(2017-8-16)/bags/cardboard/Card60.bag', '/home/jiang/Desktop/IntenAnglDist(2017-8-16)/bags/cardboard/Card80.bag', '/home/jiang/Desktop/IntenAnglDist(2017-8-16)/bags/cardboard/Card40.bag', '/home/jiang/Desktop/IntenAnglDist(2017-8-16)/bags/cardboard/Card50.bag', '/home/jiang/Desktop/IntenAnglDist(2017-8-16)/bags/cardboard/Card30.bag', '/home/jiang/Desktop/IntenAnglDist(2017-8-16)/bags/cardboard/Card-4.bag', '/home/jiang/Desktop/IntenAnglDist(2017-8-16)/bags/cardboard/Card-30.bag', '/home/jiang/Desktop/IntenAnglDist(2017-8-16)/bags/cardboard/Card10.bag', '/home/jiang/Desktop/IntenAnglDist(2017-8-16)/bags/cardboard/Card0.bag']\n",
      "[-60, -50, -40, -30, -20, -10, -4, 0, 4, 10, 20, 30, 40, 50, 60, 80] 16\n"
     ]
    },
    {
     "name": "stderr",
     "output_type": "stream",
     "text": [
      "100%|██████████| 16/16 [00:05<00:00,  2.92it/s]"
     ]
    },
    {
     "name": "stdout",
     "output_type": "stream",
     "text": [
      "CPU times: user 5.31 s, sys: 160 ms, total: 5.47 s\n",
      "Wall time: 5.3 s\n"
     ]
    },
    {
     "name": "stderr",
     "output_type": "stream",
     "text": [
      "\n"
     ]
    }
   ],
   "source": [
    "%%time\n",
    "input_bags=dict()\n",
    "degs=[]\n",
    "path='/home/jiang/Desktop/IntenAnglDist(2017-8-16)/bags/cardboard/*.bag'\n",
    "files=glob.glob(path)\n",
    "print(files)\n",
    "for file in tqdm(files):\n",
    "    try:\n",
    "#         mat = file[50:55]\n",
    "        deg = file[64:-4]\n",
    "        deg = int(deg)\n",
    "    except ValueError:\n",
    "        print('Deg Error!')\n",
    "#     mats.append(mat)\n",
    "    degs.append(deg)\n",
    "    input_bags[deg]=file\n",
    "degs.sort()\n",
    "print(degs, len(degs))    \n",
    "\n",
    "\n",
    "\n",
    "fig = plt.figure()\n",
    "ax = fig.add_subplot(111, projection='3d')\n",
    "n = 0\n",
    "cardinten1 = np.array([])\n",
    "cardrange1 = np.array([])\n",
    "carddegree1 = np.array([])\n",
    "\n",
    "for deg in tqdm(degs):\n",
    "#     if deg == 30:\n",
    "    if len(degs) != 0:\n",
    "        inten1 = np.array([])\n",
    "        range1 = np.array([])\n",
    "#         print(inten1.shape)\n",
    "#         inten2 = []\n",
    "#         range2 = []\n",
    "        for topic, msg, t in rosbag.Bag(input_bags[deg]):\n",
    "            if topic == '/first':\n",
    "#                 print(msg.intensities, msg.ranges)\n",
    "                inten1 = np.insert(inten1, 0, np.average(msg.intensities[:]))\n",
    "                range1 = np.insert(range1, 0, np.average(msg.ranges[:]))\n",
    "                \n",
    "                inten1 = inten1[np.where(range1<=10)]\n",
    "                range1 = range1[np.where(range1<=10)] \n",
    "#                 print(inten1.shape, range1.shape)\n",
    "                length1 = inten1.shape[0]\n",
    "    #         if topic == '/last':\n",
    "    #             inten2.append(np.average(msg.intensities[:]))\n",
    "    #             range2.append(np.average(msg.ranges[:]))  \n",
    "        degree1 = np.full((length1,), deg)\n",
    "#         ax.scatter(range1, degree1, inten1)\n",
    "        cardinten1 = np.insert(cardinten1, 0, inten1)\n",
    "        cardrange1 = np.insert(cardrange1, 0, range1)\n",
    "        carddegree1 = np.insert(carddegree1, 0, degree1)\n",
    "    else:\n",
    "#         print('Ignored')\n",
    "        continue\n",
    "    \n",
    "ax.scatter( cardrange1, carddegree1, cardinten1,marker='.', color='y')\n",
    "ax.set_xlabel('Distance')\n",
    "ax.set_ylabel('Incident angle')\n",
    "ax.set_zlabel('Intensity')\n",
    "ax.set_xlim(0,10)\n",
    "ax.set_ylim(-90,90)\n",
    "ax.set_zlim(0, 20000)\n",
    "ax.set_yticks(np.arange(-90,91,20))\n",
    "plt.show()\n"
   ]
  },
  {
   "cell_type": "code",
   "execution_count": 12,
   "metadata": {
    "collapsed": false,
    "deletable": true,
    "editable": true
   },
   "outputs": [
    {
     "name": "stderr",
     "output_type": "stream",
     "text": [
      "100%|██████████| 16/16 [00:00<00:00, 83261.62it/s]\n",
      "  0%|          | 0/16 [00:00<?, ?it/s]"
     ]
    },
    {
     "name": "stdout",
     "output_type": "stream",
     "text": [
      "['/home/jiang/Desktop/IntenAnglDist(2017-8-16)/bags/glass/glass8.bag', '/home/jiang/Desktop/IntenAnglDist(2017-8-16)/bags/glass/glass3.bag', '/home/jiang/Desktop/IntenAnglDist(2017-8-16)/bags/glass/glass0.bag', '/home/jiang/Desktop/IntenAnglDist(2017-8-16)/bags/glass/glass-8.bag', '/home/jiang/Desktop/IntenAnglDist(2017-8-16)/bags/glass/glass6.bag', '/home/jiang/Desktop/IntenAnglDist(2017-8-16)/bags/glass/glass4.bag', '/home/jiang/Desktop/IntenAnglDist(2017-8-16)/bags/glass/glass-3.bag', '/home/jiang/Desktop/IntenAnglDist(2017-8-16)/bags/glass/glass-10.bag', '/home/jiang/Desktop/IntenAnglDist(2017-8-16)/bags/glass/glass1.bag', '/home/jiang/Desktop/IntenAnglDist(2017-8-16)/bags/glass/glass10.bag', '/home/jiang/Desktop/IntenAnglDist(2017-8-16)/bags/glass/glass-1.bag', '/home/jiang/Desktop/IntenAnglDist(2017-8-16)/bags/glass/glass-2.bag', '/home/jiang/Desktop/IntenAnglDist(2017-8-16)/bags/glass/glass0.5.bag', '/home/jiang/Desktop/IntenAnglDist(2017-8-16)/bags/glass/glass2.bag', '/home/jiang/Desktop/IntenAnglDist(2017-8-16)/bags/glass/glass-4.bag', '/home/jiang/Desktop/IntenAnglDist(2017-8-16)/bags/glass/glass-6.bag']\n",
      "Deg Error!\n",
      "[-10, -8, -6, -4, -3, -2, -1, 0, 1, 2, 3, 4, 6, 8, 10, '0.5'] 16\n"
     ]
    },
    {
     "name": "stderr",
     "output_type": "stream",
     "text": [
      "100%|██████████| 16/16 [00:04<00:00,  2.05it/s]"
     ]
    },
    {
     "name": "stdout",
     "output_type": "stream",
     "text": [
      "CPU times: user 4.86 s, sys: 232 ms, total: 5.09 s\n",
      "Wall time: 4.95 s\n"
     ]
    },
    {
     "name": "stderr",
     "output_type": "stream",
     "text": [
      "\n"
     ]
    }
   ],
   "source": [
    "%%time\n",
    "\n",
    "input_bags=dict()\n",
    "degs=[]\n",
    "path='/home/jiang/Desktop/IntenAnglDist(2017-8-16)/bags/glass/*.bag'\n",
    "files=glob.glob(path)\n",
    "print(files)\n",
    "for file in tqdm(files):\n",
    "    try:\n",
    "#         mat = file[50:55]\n",
    "        deg = file[61:-4]\n",
    "        deg = int(deg)\n",
    "    except ValueError:\n",
    "        print('Deg Error!')\n",
    "#     mats.append(mat)\n",
    "    degs.append(deg)\n",
    "    input_bags[deg]=file\n",
    "degs.sort()\n",
    "print(degs, len(degs))\n",
    "\n",
    "\n",
    "fig = plt.figure()\n",
    "gx = fig.add_subplot(111, projection='3d')\n",
    "n = 0\n",
    "glassinten1 = np.array([])\n",
    "glassrange1 = np.array([])\n",
    "glassdegree1 = np.array([])\n",
    "for deg in tqdm(degs):\n",
    "#     if deg == 30:\n",
    "    if len(degs) != 0:\n",
    "        inten1 = np.array([])\n",
    "        range1 = np.array([])\n",
    "#         print(inten1.shape)\n",
    "#         inten2 = []\n",
    "#         range2 = []\n",
    "        for topic, msg, t in rosbag.Bag(input_bags[deg]):\n",
    "            if topic == '/first':\n",
    "#                 print(msg.intensities, msg.ranges)\n",
    "                inten1 = np.insert(inten1, 0, np.average(msg.intensities[:]))\n",
    "                range1 = np.insert(range1, 0, np.average(msg.ranges[:]))\n",
    "                \n",
    "                inten1 = inten1[np.where(range1<=10)]\n",
    "                range1 = range1[np.where(range1<=10)] \n",
    "#                 print(inten1.shape, range1.shape)\n",
    "                length1 = inten1.shape[0]\n",
    "    #         if topic == '/last':\n",
    "    #             inten2.append(np.average(msg.intensities[:]))\n",
    "    #             range2.append(np.average(msg.ranges[:]))  \n",
    "        degree1 = np.full((length1,), deg)\n",
    "#         gx.scatter(range1, degree1, inten1)\n",
    "        glassinten1 = np.insert(glassinten1, 0, inten1)\n",
    "        glassrange1 = np.insert(glassrange1, 0, range1)\n",
    "        glassdegree1 = np.insert(glassdegree1, 0, degree1)\n",
    "    else:\n",
    "        print('Ignored')\n",
    "        continue\n",
    "gx.scatter(glassrange1, glassdegree1, glassinten1,marker='.', color='b')\n",
    "gx.set_xlabel('Distance')\n",
    "gx.set_ylabel('Incident angle')\n",
    "gx.set_zlabel('Intensity')\n",
    "gx.set_xlim(0,10)\n",
    "gx.set_ylim(-90,90)\n",
    "gx.set_zlim(0, 20000)\n",
    "gx.set_yticks(np.arange(-90,91,20))\n",
    "plt.show()"
   ]
  },
  {
   "cell_type": "code",
   "execution_count": 14,
   "metadata": {
    "collapsed": false,
    "deletable": true,
    "editable": true
   },
   "outputs": [
    {
     "name": "stderr",
     "output_type": "stream",
     "text": [
      "100%|██████████| 25/25 [00:00<00:00, 178633.05it/s]\n",
      "  0%|          | 0/25 [00:00<?, ?it/s]"
     ]
    },
    {
     "name": "stdout",
     "output_type": "stream",
     "text": [
      "['/home/jiang/Desktop/IntenAnglDist(2017-8-16)/bags/silver/silver-60.bag', '/home/jiang/Desktop/IntenAnglDist(2017-8-16)/bags/silver/silver-10.bag', '/home/jiang/Desktop/IntenAnglDist(2017-8-16)/bags/silver/silver20.bag', '/home/jiang/Desktop/IntenAnglDist(2017-8-16)/bags/silver/silver50.bag', '/home/jiang/Desktop/IntenAnglDist(2017-8-16)/bags/silver/silver-4.bag', '/home/jiang/Desktop/IntenAnglDist(2017-8-16)/bags/silver/silver-1.bag', '/home/jiang/Desktop/IntenAnglDist(2017-8-16)/bags/silver/silver30.bag', '/home/jiang/Desktop/IntenAnglDist(2017-8-16)/bags/silver/silver-40.bag', '/home/jiang/Desktop/IntenAnglDist(2017-8-16)/bags/silver/silver-2.bag', '/home/jiang/Desktop/IntenAnglDist(2017-8-16)/bags/silver/silver6.bag', '/home/jiang/Desktop/IntenAnglDist(2017-8-16)/bags/silver/silver2.bag', '/home/jiang/Desktop/IntenAnglDist(2017-8-16)/bags/silver/silver10.bag', '/home/jiang/Desktop/IntenAnglDist(2017-8-16)/bags/silver/silver60.bag', '/home/jiang/Desktop/IntenAnglDist(2017-8-16)/bags/silver/silver0.bag', '/home/jiang/Desktop/IntenAnglDist(2017-8-16)/bags/silver/silver-3.bag', '/home/jiang/Desktop/IntenAnglDist(2017-8-16)/bags/silver/silver4.bag', '/home/jiang/Desktop/IntenAnglDist(2017-8-16)/bags/silver/silver1.bag', '/home/jiang/Desktop/IntenAnglDist(2017-8-16)/bags/silver/silver40.bag', '/home/jiang/Desktop/IntenAnglDist(2017-8-16)/bags/silver/silver-70.bag', '/home/jiang/Desktop/IntenAnglDist(2017-8-16)/bags/silver/silver3.bag', '/home/jiang/Desktop/IntenAnglDist(2017-8-16)/bags/silver/silver-30.bag', '/home/jiang/Desktop/IntenAnglDist(2017-8-16)/bags/silver/silver70.bag', '/home/jiang/Desktop/IntenAnglDist(2017-8-16)/bags/silver/silver-50.bag', '/home/jiang/Desktop/IntenAnglDist(2017-8-16)/bags/silver/silver-20.bag', '/home/jiang/Desktop/IntenAnglDist(2017-8-16)/bags/silver/silver-6.bag']\n",
      "[-70, -60, -50, -40, -30, -20, -10, -6, -4, -3, -2, -1, 0, 1, 2, 3, 4, 6, 10, 20, 30, 40, 50, 60, 70] 25\n"
     ]
    },
    {
     "name": "stderr",
     "output_type": "stream",
     "text": [
      "100%|██████████| 25/25 [00:03<00:00,  6.67it/s]"
     ]
    },
    {
     "name": "stdout",
     "output_type": "stream",
     "text": [
      "CPU times: user 3.83 s, sys: 216 ms, total: 4.05 s\n",
      "Wall time: 3.88 s\n"
     ]
    },
    {
     "name": "stderr",
     "output_type": "stream",
     "text": [
      "\n"
     ]
    }
   ],
   "source": [
    "%%time\n",
    "\n",
    "input_bags=dict()\n",
    "degs=[]\n",
    "path='/home/jiang/Desktop/IntenAnglDist(2017-8-16)/bags/silver/*.bag'\n",
    "files=glob.glob(path)\n",
    "print(files)\n",
    "for file in tqdm(files):\n",
    "    try:\n",
    "#         mat = file[50:55]\n",
    "        deg = file[63:-4]\n",
    "        deg = int(deg)\n",
    "    except ValueError:\n",
    "        print('Deg Error!')\n",
    "#     mats.append(mat)\n",
    "    degs.append(deg)\n",
    "    input_bags[deg]=file\n",
    "degs.sort()\n",
    "print(degs, len(degs))\n",
    "\n",
    "\n",
    "fig = plt.figure()\n",
    "sx = fig.add_subplot(111, projection='3d')\n",
    "n = 0\n",
    "silverinten1 = np.array([])\n",
    "silverrange1 = np.array([])\n",
    "silverdegree1 = np.array([])\n",
    "\n",
    "for deg in tqdm(degs):\n",
    "#     if deg == 30:\n",
    "    if len(degs) != 0:\n",
    "        inten1 = np.array([])\n",
    "        range1 = np.array([])\n",
    "#         print(inten1.shape)\n",
    "#         inten2 = []\n",
    "#         range2 = []\n",
    "        for topic, msg, t in rosbag.Bag(input_bags[deg]):\n",
    "            if topic == '/first':\n",
    "#                 print(msg.intensities, msg.ranges)\n",
    "                if len(msg.intensities)==3:\n",
    "                    inten1 = np.insert(inten1, 0, np.average(msg.intensities[:]))\n",
    "                    range1 = np.insert(range1, 0, np.average(msg.ranges[:]))\n",
    "                else:\n",
    "                    print(\"too many intensities:\", len(msg.intensities))\n",
    "                inten1 = inten1[np.where(range1<=10)]\n",
    "                range1 = range1[np.where(range1<=10)] \n",
    "#                 print(inten1.shape, range1.shape)\n",
    "                length1 = inten1.shape[0]\n",
    "    #         if topic == '/last':\n",
    "    #             inten2.append(np.average(msg.intensities[:]))\n",
    "    #             range2.append(np.average(msg.ranges[:]))  \n",
    "        degree1 = np.full((length1,), deg)\n",
    "#         sx.scatter(range1, degree1, inten1)\n",
    "        silverinten1 = np.insert(silverinten1, 0, inten1)\n",
    "        silverrange1 = np.insert(silverrange1, 0, range1)\n",
    "        silverdegree1 = np.insert(silverdegree1, 0, degree1)\n",
    "    else:\n",
    "        print('Ignored')\n",
    "        continue\n",
    "sx.scatter(silverrange1, silverdegree1, silverinten1, marker='.', color='r')\n",
    "sx.set_xlabel('Distance')\n",
    "sx.set_ylabel('Incident angle')\n",
    "sx.set_zlabel('Intensity')\n",
    "sx.set_xlim(0,10)\n",
    "sx.set_ylim(-90,90)\n",
    "sx.set_zlim(0, 20000)\n",
    "sx.set_yticks(np.arange(-90,91,20))\n",
    "plt.show()"
   ]
  },
  {
   "cell_type": "code",
   "execution_count": 15,
   "metadata": {
    "collapsed": false
   },
   "outputs": [],
   "source": [
    "# save the array into npy files\n",
    "cardboardInfo = np.c_[cardrange1, carddegree1, cardinten1]\n",
    "np.save(\"/home/jiang/catkin_ws/src/tests/scripts/cardboardInfo.npy\", cardboardInfo)\n",
    "cleanGlassInfo = np.c_[glassrange1, glassdegree1, glassinten1]\n",
    "np.save(\"/home/jiang/catkin_ws/src/tests/scripts/cleanGlassInfo.npy\", cleanGlassInfo)\n",
    "sliverInfo = np.c_[silverrange1, silverdegree1, silverinten1]\n",
    "np.save(\"/home/jiang/catkin_ws/src/tests/scripts/sliverInfo.npy\", sliverInfo)"
   ]
  },
  {
   "cell_type": "code",
   "execution_count": null,
   "metadata": {
    "collapsed": false,
    "deletable": true,
    "editable": true
   },
   "outputs": [],
   "source": [
    "##### Prepare NN training data\n",
    "# from sklearn.neural_network import MLPClassifier\n",
    "# from sklearn.preprocessing import StandardScaler\n",
    "# from sklearn.utils import shuffle\n",
    "# from sklearn.model_selection import train_test_split\n",
    "# xcard = np.concatenate((carddegree1[:,None], cardrange1[:,None], cardinten1[:,None]), axis = 1)\n",
    "# xglass = np.concatenate((glassdegree1[:,None], glassrange1[:,None], glassinten1[:,None]), axis = 1)\n",
    "# xsilver = np.concatenate((silverdegree1[:,None], silverrange1[:,None], silverinten1[:,None]), axis=1)\n",
    "# xdata = np.concatenate((xcard, xglass, xsilver), axis = 0)\n",
    "# a = np.full((xcard.shape[0],), 0.0)\n",
    "# b = np.full((xglass.shape[0],), 1.0)\n",
    "# c = np.full((xsilver.shape[0],), 0.0)\n",
    "# ydata = np.concatenate((a,b,c), axis=0)\n",
    "# joblib.dump(xdata, \"/home/jiang/Desktop/IntenAnglDist(2017-8-16)/pkls/xdata.pkl\")\n",
    "# joblib.dump(ydata, \"/home/jiang/Desktop/IntenAnglDist(2017-8-16)/pkls/ydata.pkl\")\n",
    "# print(xdata.shape, ydata.shape)\n",
    "\n",
    "##### train and test on xdata and y data, score = 0.981\n",
    "# trainx, testx, trainy, testy = train_test_split(xdata, ydata, test_size = 0.2)\n",
    "# scalar = StandardScaler()\n",
    "# scalar.fit(trainx)\n",
    "# trainx = scalar.transform(trainx)\n",
    "# testx = scalar.transform(testx)\n",
    "\n",
    "# NN = MLPClassifier(hidden_layer_sizes=(100, 100))\n",
    "# NN.fit(trainx, trainy)\n",
    "# NN.score(testx, testy)\n",
    "\n",
    "#### prepare NN and scalar based on whole xdata, ydata\n",
    "# scaler = StandardScaler()\n",
    "# scaler.fit(xdata)\n",
    "# xdata = scaler.transform(xdata)\n",
    "# NN = MLPClassifier(hidden_layer_sizes=(100,100))\n",
    "# NN.fit(xdata,ydata)\n",
    "# joblib.dump(NN, \"/home/jiang/Desktop/IntenAnglDist(2017-8-16)/pkls/NN.pkl\")\n",
    "# joblib.dump(scaler, \"/home/jiang/Desktop/IntenAnglDist(2017-8-16)/pkls/scaler.pkl\")\n",
    "\n",
    "# print(glassrange1.shape,cardrange1.shape, silverrange1.shape)"
   ]
  },
  {
   "cell_type": "code",
   "execution_count": 21,
   "metadata": {
    "collapsed": false,
    "deletable": true,
    "editable": true
   },
   "outputs": [
    {
     "data": {
      "text/plain": [
       "MLPClassifier(activation='relu', alpha=0.0001, batch_size='auto', beta_1=0.9,\n",
       "       beta_2=0.999, early_stopping=False, epsilon=1e-08,\n",
       "       hidden_layer_sizes=(100, 100), learning_rate='constant',\n",
       "       learning_rate_init=0.001, max_iter=200, momentum=0.9,\n",
       "       nesterovs_momentum=True, power_t=0.5, random_state=None,\n",
       "       shuffle=True, solver='adam', tol=0.0001, validation_fraction=0.1,\n",
       "       verbose=False, warm_start=False)"
      ]
     },
     "execution_count": 21,
     "metadata": {},
     "output_type": "execute_result"
    }
   ],
   "source": [
    "GlassNN=joblib.load(\"/home/jiang/Desktop/GlassMap(2017-06-20)/pkls/GlassNN.pkl\")\n",
    "scaler1=joblib.load(\"/home/jiang/Desktop/GlassMap(2017-06-20)/pkls/scaler1.pkl\")\n",
    "GlassNN"
   ]
  },
  {
   "cell_type": "code",
   "execution_count": 22,
   "metadata": {
    "collapsed": false,
    "deletable": true,
    "editable": true
   },
   "outputs": [
    {
     "name": "stderr",
     "output_type": "stream",
     "text": [
      "/usr/lib/python2.7/dist-packages/matplotlib/legend.py:325: UserWarning: Unrecognized location \"right upper\". Falling back on \"best\"; valid locations are\n",
      "\tright\n",
      "\tcenter left\n",
      "\tupper right\n",
      "\tlower right\n",
      "\tbest\n",
      "\tcenter\n",
      "\tlower left\n",
      "\tcenter right\n",
      "\tupper left\n",
      "\tupper center\n",
      "\tlower center\n",
      "\n",
      "  six.iterkeys(self.codes))))\n"
     ]
    }
   ],
   "source": [
    "fig = plt.figure()\n",
    "allx = fig.add_subplot(111,projection=\"3d\")\n",
    "\n",
    "for x, y, z, c,l in [(cardrange1, carddegree1, cardinten1, 'b','Cardboard'),\n",
    "                   (glassrange1, glassdegree1, glassinten1, 'r', 'Glass'),\n",
    "                   #(silverrange1, silverdegree1, silverinten1, 'r', 'Sandwichborad')\n",
    "                  ]:\n",
    "    allx.scatter(x,y,z, marker='.', color=c, label=l)\n",
    "# allx.set_xlabel('Distance')\n",
    "# allx.set_ylabel('Incident angle')\n",
    "# allx.set_zlabel('Intensity')\n",
    "allx.legend(loc='right upper')\n",
    "allx.set_xlim(0,10)\n",
    "allx.set_ylim(-90,90)\n",
    "allx.set_zlim(0, 20000)\n",
    "allx.set_yticks(np.arange(-90,91,20))\n",
    "plt.show()"
   ]
  },
  {
   "cell_type": "code",
   "execution_count": null,
   "metadata": {
    "collapsed": false,
    "deletable": true,
    "editable": true
   },
   "outputs": [],
   "source": [
    "fig2 = plt.figure()\n",
    "gi = fig2.add_subplot(221)\n",
    "plt.hist(glassinten1[np.where(glassrange1>1)])\n",
    "gi.set_xlabel(\"Glass intensity\")\n",
    "gi.set_ylabel(\"Number\")\n",
    "gd = fig2.add_subplot(222)\n",
    "plt.hist(glassrange1[np.where(glassrange1>1)])\n",
    "gd.set_xlabel(\"Glass distance\")\n",
    "gd.set_ylabel(\"Number\")\n",
    "ci = fig2.add_subplot(223)\n",
    "plt.hist(cardinten1)\n",
    "ci.set_xlabel(\"Cardboard Intensity\")\n",
    "ci.set_ylabel(\"Number\")\n",
    "cd = fig2.add_subplot(224)\n",
    "plt.hist(cardrange1)\n",
    "cd.set_xlabel(\"Cardboard distance\")\n",
    "cd.set_ylabel(\"Number\")\n",
    "plt.show"
   ]
  },
  {
   "cell_type": "code",
   "execution_count": 19,
   "metadata": {
    "collapsed": false,
    "deletable": true,
    "editable": true
   },
   "outputs": [
    {
     "data": {
      "text/plain": [
       "array([[   4.57266665,    4.        ,  145.66666667],\n",
       "       [   4.56133318,    4.        ,  173.        ],\n",
       "       [   4.57699998,    4.        ,  198.66666667],\n",
       "       [   4.57699998,    4.        ,  182.66666667],\n",
       "       [   4.56533321,    4.        ,  184.33333333],\n",
       "       [   4.55833324,    4.        ,  209.66666667],\n",
       "       [   4.55966663,    4.        ,  194.        ],\n",
       "       [   4.55633354,    4.        ,  212.33333333],\n",
       "       [   4.55233335,    4.        ,  189.33333333],\n",
       "       [   4.54899995,    4.        ,  185.33333333]])"
      ]
     },
     "execution_count": 19,
     "metadata": {},
     "output_type": "execute_result"
    }
   ],
   "source": [
    "cleanGlassInfo[1100:1110,:]"
   ]
  }
 ],
 "metadata": {
  "kernelspec": {
   "display_name": "Python 2",
   "language": "python",
   "name": "python2"
  },
  "language_info": {
   "codemirror_mode": {
    "name": "ipython",
    "version": 2
   },
   "file_extension": ".py",
   "mimetype": "text/x-python",
   "name": "python",
   "nbconvert_exporter": "python",
   "pygments_lexer": "ipython2",
   "version": "2.7.12"
  }
 },
 "nbformat": 4,
 "nbformat_minor": 2
}
